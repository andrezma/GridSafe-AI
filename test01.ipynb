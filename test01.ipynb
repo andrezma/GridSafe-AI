{
  "nbformat": 4,
  "nbformat_minor": 0,
  "metadata": {
    "colab": {
      "provenance": [],
      "authorship_tag": "ABX9TyMX/JdSw66ummaVceW/Ej6O",
      "include_colab_link": true
    },
    "kernelspec": {
      "name": "python3",
      "display_name": "Python 3"
    },
    "language_info": {
      "name": "python"
    },
    "widgets": {
      "application/vnd.jupyter.widget-state+json": {
        "c2a491040251421eb7f33124ad90423e": {
          "model_module": "@jupyter-widgets/controls",
          "model_name": "HBoxModel",
          "model_module_version": "1.5.0",
          "state": {
            "_dom_classes": [],
            "_model_module": "@jupyter-widgets/controls",
            "_model_module_version": "1.5.0",
            "_model_name": "HBoxModel",
            "_view_count": null,
            "_view_module": "@jupyter-widgets/controls",
            "_view_module_version": "1.5.0",
            "_view_name": "HBoxView",
            "box_style": "",
            "children": [
              "IPY_MODEL_8512bb3bea2f4f4ea7c767cd8f8ee0a1",
              "IPY_MODEL_83e18c0e61b1419592fddd4c2f029c6d",
              "IPY_MODEL_4851a5ee09f8487b8bf515187ae2d1e7"
            ],
            "layout": "IPY_MODEL_415134bd3d9442c0825a223447b36f99"
          }
        },
        "8512bb3bea2f4f4ea7c767cd8f8ee0a1": {
          "model_module": "@jupyter-widgets/controls",
          "model_name": "HTMLModel",
          "model_module_version": "1.5.0",
          "state": {
            "_dom_classes": [],
            "_model_module": "@jupyter-widgets/controls",
            "_model_module_version": "1.5.0",
            "_model_name": "HTMLModel",
            "_view_count": null,
            "_view_module": "@jupyter-widgets/controls",
            "_view_module_version": "1.5.0",
            "_view_name": "HTMLView",
            "description": "",
            "description_tooltip": null,
            "layout": "IPY_MODEL_57d3155f1edf4b1cb792d78265eb61b1",
            "placeholder": "​",
            "style": "IPY_MODEL_1b241ea8cd634776bc0811453f3e3322",
            "value": "3107a0141c78dbe62d21c1e881c9ec93.zip:  64%"
          }
        },
        "83e18c0e61b1419592fddd4c2f029c6d": {
          "model_module": "@jupyter-widgets/controls",
          "model_name": "FloatProgressModel",
          "model_module_version": "1.5.0",
          "state": {
            "_dom_classes": [],
            "_model_module": "@jupyter-widgets/controls",
            "_model_module_version": "1.5.0",
            "_model_name": "FloatProgressModel",
            "_view_count": null,
            "_view_module": "@jupyter-widgets/controls",
            "_view_module_version": "1.5.0",
            "_view_name": "ProgressView",
            "bar_style": "",
            "description": "",
            "description_tooltip": null,
            "layout": "IPY_MODEL_9abf52c40e99441d9ec471b699551451",
            "max": 4894981,
            "min": 0,
            "orientation": "horizontal",
            "style": "IPY_MODEL_4e4105b3f83d4a2091e1ff6abdbcd79a",
            "value": 4894981
          }
        },
        "4851a5ee09f8487b8bf515187ae2d1e7": {
          "model_module": "@jupyter-widgets/controls",
          "model_name": "HTMLModel",
          "model_module_version": "1.5.0",
          "state": {
            "_dom_classes": [],
            "_model_module": "@jupyter-widgets/controls",
            "_model_module_version": "1.5.0",
            "_model_name": "HTMLModel",
            "_view_count": null,
            "_view_module": "@jupyter-widgets/controls",
            "_view_module_version": "1.5.0",
            "_view_name": "HTMLView",
            "description": "",
            "description_tooltip": null,
            "layout": "IPY_MODEL_1080599bbbd048e19a468eafc080d729",
            "placeholder": "​",
            "style": "IPY_MODEL_e2bbda0565c644fa88eb7fb0c517e285",
            "value": " 3.00M/4.67M [00:02&lt;00:01, 1.51MB/s]"
          }
        },
        "415134bd3d9442c0825a223447b36f99": {
          "model_module": "@jupyter-widgets/base",
          "model_name": "LayoutModel",
          "model_module_version": "1.2.0",
          "state": {
            "_model_module": "@jupyter-widgets/base",
            "_model_module_version": "1.2.0",
            "_model_name": "LayoutModel",
            "_view_count": null,
            "_view_module": "@jupyter-widgets/base",
            "_view_module_version": "1.2.0",
            "_view_name": "LayoutView",
            "align_content": null,
            "align_items": null,
            "align_self": null,
            "border": null,
            "bottom": null,
            "display": null,
            "flex": null,
            "flex_flow": null,
            "grid_area": null,
            "grid_auto_columns": null,
            "grid_auto_flow": null,
            "grid_auto_rows": null,
            "grid_column": null,
            "grid_gap": null,
            "grid_row": null,
            "grid_template_areas": null,
            "grid_template_columns": null,
            "grid_template_rows": null,
            "height": null,
            "justify_content": null,
            "justify_items": null,
            "left": null,
            "margin": null,
            "max_height": null,
            "max_width": null,
            "min_height": null,
            "min_width": null,
            "object_fit": null,
            "object_position": null,
            "order": null,
            "overflow": null,
            "overflow_x": null,
            "overflow_y": null,
            "padding": null,
            "right": null,
            "top": null,
            "visibility": "hidden",
            "width": null
          }
        },
        "57d3155f1edf4b1cb792d78265eb61b1": {
          "model_module": "@jupyter-widgets/base",
          "model_name": "LayoutModel",
          "model_module_version": "1.2.0",
          "state": {
            "_model_module": "@jupyter-widgets/base",
            "_model_module_version": "1.2.0",
            "_model_name": "LayoutModel",
            "_view_count": null,
            "_view_module": "@jupyter-widgets/base",
            "_view_module_version": "1.2.0",
            "_view_name": "LayoutView",
            "align_content": null,
            "align_items": null,
            "align_self": null,
            "border": null,
            "bottom": null,
            "display": null,
            "flex": null,
            "flex_flow": null,
            "grid_area": null,
            "grid_auto_columns": null,
            "grid_auto_flow": null,
            "grid_auto_rows": null,
            "grid_column": null,
            "grid_gap": null,
            "grid_row": null,
            "grid_template_areas": null,
            "grid_template_columns": null,
            "grid_template_rows": null,
            "height": null,
            "justify_content": null,
            "justify_items": null,
            "left": null,
            "margin": null,
            "max_height": null,
            "max_width": null,
            "min_height": null,
            "min_width": null,
            "object_fit": null,
            "object_position": null,
            "order": null,
            "overflow": null,
            "overflow_x": null,
            "overflow_y": null,
            "padding": null,
            "right": null,
            "top": null,
            "visibility": null,
            "width": null
          }
        },
        "1b241ea8cd634776bc0811453f3e3322": {
          "model_module": "@jupyter-widgets/controls",
          "model_name": "DescriptionStyleModel",
          "model_module_version": "1.5.0",
          "state": {
            "_model_module": "@jupyter-widgets/controls",
            "_model_module_version": "1.5.0",
            "_model_name": "DescriptionStyleModel",
            "_view_count": null,
            "_view_module": "@jupyter-widgets/base",
            "_view_module_version": "1.2.0",
            "_view_name": "StyleView",
            "description_width": ""
          }
        },
        "9abf52c40e99441d9ec471b699551451": {
          "model_module": "@jupyter-widgets/base",
          "model_name": "LayoutModel",
          "model_module_version": "1.2.0",
          "state": {
            "_model_module": "@jupyter-widgets/base",
            "_model_module_version": "1.2.0",
            "_model_name": "LayoutModel",
            "_view_count": null,
            "_view_module": "@jupyter-widgets/base",
            "_view_module_version": "1.2.0",
            "_view_name": "LayoutView",
            "align_content": null,
            "align_items": null,
            "align_self": null,
            "border": null,
            "bottom": null,
            "display": null,
            "flex": null,
            "flex_flow": null,
            "grid_area": null,
            "grid_auto_columns": null,
            "grid_auto_flow": null,
            "grid_auto_rows": null,
            "grid_column": null,
            "grid_gap": null,
            "grid_row": null,
            "grid_template_areas": null,
            "grid_template_columns": null,
            "grid_template_rows": null,
            "height": null,
            "justify_content": null,
            "justify_items": null,
            "left": null,
            "margin": null,
            "max_height": null,
            "max_width": null,
            "min_height": null,
            "min_width": null,
            "object_fit": null,
            "object_position": null,
            "order": null,
            "overflow": null,
            "overflow_x": null,
            "overflow_y": null,
            "padding": null,
            "right": null,
            "top": null,
            "visibility": null,
            "width": null
          }
        },
        "4e4105b3f83d4a2091e1ff6abdbcd79a": {
          "model_module": "@jupyter-widgets/controls",
          "model_name": "ProgressStyleModel",
          "model_module_version": "1.5.0",
          "state": {
            "_model_module": "@jupyter-widgets/controls",
            "_model_module_version": "1.5.0",
            "_model_name": "ProgressStyleModel",
            "_view_count": null,
            "_view_module": "@jupyter-widgets/base",
            "_view_module_version": "1.2.0",
            "_view_name": "StyleView",
            "bar_color": null,
            "description_width": ""
          }
        },
        "1080599bbbd048e19a468eafc080d729": {
          "model_module": "@jupyter-widgets/base",
          "model_name": "LayoutModel",
          "model_module_version": "1.2.0",
          "state": {
            "_model_module": "@jupyter-widgets/base",
            "_model_module_version": "1.2.0",
            "_model_name": "LayoutModel",
            "_view_count": null,
            "_view_module": "@jupyter-widgets/base",
            "_view_module_version": "1.2.0",
            "_view_name": "LayoutView",
            "align_content": null,
            "align_items": null,
            "align_self": null,
            "border": null,
            "bottom": null,
            "display": null,
            "flex": null,
            "flex_flow": null,
            "grid_area": null,
            "grid_auto_columns": null,
            "grid_auto_flow": null,
            "grid_auto_rows": null,
            "grid_column": null,
            "grid_gap": null,
            "grid_row": null,
            "grid_template_areas": null,
            "grid_template_columns": null,
            "grid_template_rows": null,
            "height": null,
            "justify_content": null,
            "justify_items": null,
            "left": null,
            "margin": null,
            "max_height": null,
            "max_width": null,
            "min_height": null,
            "min_width": null,
            "object_fit": null,
            "object_position": null,
            "order": null,
            "overflow": null,
            "overflow_x": null,
            "overflow_y": null,
            "padding": null,
            "right": null,
            "top": null,
            "visibility": null,
            "width": null
          }
        },
        "e2bbda0565c644fa88eb7fb0c517e285": {
          "model_module": "@jupyter-widgets/controls",
          "model_name": "DescriptionStyleModel",
          "model_module_version": "1.5.0",
          "state": {
            "_model_module": "@jupyter-widgets/controls",
            "_model_module_version": "1.5.0",
            "_model_name": "DescriptionStyleModel",
            "_view_count": null,
            "_view_module": "@jupyter-widgets/base",
            "_view_module_version": "1.2.0",
            "_view_name": "StyleView",
            "description_width": ""
          }
        }
      }
    }
  },
  "cells": [
    {
      "cell_type": "markdown",
      "metadata": {
        "id": "view-in-github",
        "colab_type": "text"
      },
      "source": [
        "<a href=\"https://colab.research.google.com/github/andrezma/GridSafe-AI/blob/main/test01.ipynb\" target=\"_parent\"><img src=\"https://colab.research.google.com/assets/colab-badge.svg\" alt=\"Open In Colab\"/></a>"
      ]
    },
    {
      "cell_type": "code",
      "source": [
        "!pwd\n",
        "!ls"
      ],
      "metadata": {
        "colab": {
          "base_uri": "https://localhost:8080/"
        },
        "id": "_L62ZYacuTlY",
        "outputId": "9cf513bc-0488-49d9-c2ef-4557f974259a"
      },
      "execution_count": null,
      "outputs": [
        {
          "output_type": "stream",
          "name": "stdout",
          "text": [
            "/content\n",
            "sample_data\n"
          ]
        }
      ]
    },
    {
      "cell_type": "code",
      "source": [],
      "metadata": {
        "id": "oEHAvqr79dr3"
      },
      "execution_count": null,
      "outputs": []
    },
    {
      "cell_type": "code",
      "execution_count": null,
      "metadata": {
        "id": "m38zKSXqi2PU"
      },
      "outputs": [],
      "source": [
        "#url: https://cds.climate.copernicus.eu/api\n",
        "#key: 14501e17-5532-47e7-adc1-91dd13a1a885\n",
        "\n",
        "!echo \"url: https://cds.climate.copernicus.eu/api\" > $HOME/.cdsapirc\n",
        "!echo \"key: 14501e17-5532-47e7-adc1-91dd13a1a885\" >> $HOME/.cdsapirc"
      ]
    },
    {
      "cell_type": "code",
      "source": [
        "!pip install \"cdsapi>=0.7.4\""
      ],
      "metadata": {
        "colab": {
          "base_uri": "https://localhost:8080/"
        },
        "id": "8KhXTMCkuq-L",
        "outputId": "c252b506-cf4e-4fcd-c424-3ea0f627ef2e"
      },
      "execution_count": null,
      "outputs": [
        {
          "output_type": "stream",
          "name": "stdout",
          "text": [
            "Collecting cdsapi>=0.7.4\n",
            "  Downloading cdsapi-0.7.6-py2.py3-none-any.whl.metadata (3.0 kB)\n",
            "Collecting ecmwf-datastores-client (from cdsapi>=0.7.4)\n",
            "  Downloading ecmwf_datastores_client-0.1.0-py3-none-any.whl.metadata (21 kB)\n",
            "Requirement already satisfied: requests>=2.5.0 in /usr/local/lib/python3.11/dist-packages (from cdsapi>=0.7.4) (2.32.3)\n",
            "Requirement already satisfied: tqdm in /usr/local/lib/python3.11/dist-packages (from cdsapi>=0.7.4) (4.67.1)\n",
            "Requirement already satisfied: charset-normalizer<4,>=2 in /usr/local/lib/python3.11/dist-packages (from requests>=2.5.0->cdsapi>=0.7.4) (3.4.2)\n",
            "Requirement already satisfied: idna<4,>=2.5 in /usr/local/lib/python3.11/dist-packages (from requests>=2.5.0->cdsapi>=0.7.4) (3.10)\n",
            "Requirement already satisfied: urllib3<3,>=1.21.1 in /usr/local/lib/python3.11/dist-packages (from requests>=2.5.0->cdsapi>=0.7.4) (2.4.0)\n",
            "Requirement already satisfied: certifi>=2017.4.17 in /usr/local/lib/python3.11/dist-packages (from requests>=2.5.0->cdsapi>=0.7.4) (2025.4.26)\n",
            "Requirement already satisfied: attrs in /usr/local/lib/python3.11/dist-packages (from ecmwf-datastores-client->cdsapi>=0.7.4) (25.3.0)\n",
            "Collecting multiurl>=0.3.2 (from ecmwf-datastores-client->cdsapi>=0.7.4)\n",
            "  Downloading multiurl-0.3.5-py3-none-any.whl.metadata (2.8 kB)\n",
            "Requirement already satisfied: typing-extensions in /usr/local/lib/python3.11/dist-packages (from ecmwf-datastores-client->cdsapi>=0.7.4) (4.13.2)\n",
            "Requirement already satisfied: pytz in /usr/local/lib/python3.11/dist-packages (from multiurl>=0.3.2->ecmwf-datastores-client->cdsapi>=0.7.4) (2025.2)\n",
            "Requirement already satisfied: python-dateutil in /usr/local/lib/python3.11/dist-packages (from multiurl>=0.3.2->ecmwf-datastores-client->cdsapi>=0.7.4) (2.9.0.post0)\n",
            "Requirement already satisfied: six>=1.5 in /usr/local/lib/python3.11/dist-packages (from python-dateutil->multiurl>=0.3.2->ecmwf-datastores-client->cdsapi>=0.7.4) (1.17.0)\n",
            "Downloading cdsapi-0.7.6-py2.py3-none-any.whl (12 kB)\n",
            "Downloading ecmwf_datastores_client-0.1.0-py3-none-any.whl (29 kB)\n",
            "Downloading multiurl-0.3.5-py3-none-any.whl (21 kB)\n",
            "Installing collected packages: multiurl, ecmwf-datastores-client, cdsapi\n",
            "Successfully installed cdsapi-0.7.6 ecmwf-datastores-client-0.1.0 multiurl-0.3.5\n"
          ]
        }
      ]
    },
    {
      "cell_type": "code",
      "source": [
        "import cdsapi\n",
        "\n",
        "dataset = \"reanalysis-era5-single-levels\"\n",
        "request = {\n",
        "    \"product_type\": [\"reanalysis\"],\n",
        "    \"variable\": [\n",
        "        \"2m_temperature\",\n",
        "        \"total_precipitation\"\n",
        "    ],\n",
        "    \"year\": [\"2019\"],\n",
        "    \"month\": [\n",
        "        \"01\", \"02\", \"03\",\n",
        "        \"04\", \"05\", \"06\",\n",
        "        \"07\", \"08\", \"09\",\n",
        "        \"10\", \"11\", \"12\"\n",
        "    ],\n",
        "    \"day\": [\n",
        "        \"01\", \"02\", \"03\",\n",
        "        \"04\", \"05\", \"06\",\n",
        "        \"07\", \"08\", \"09\",\n",
        "        \"10\", \"11\", \"12\",\n",
        "        \"13\", \"14\", \"15\",\n",
        "        \"16\", \"17\", \"18\",\n",
        "        \"19\", \"20\", \"21\",\n",
        "        \"22\", \"23\", \"24\",\n",
        "        \"25\", \"26\", \"27\",\n",
        "        \"28\", \"29\", \"30\",\n",
        "        \"31\"\n",
        "    ],\n",
        "    \"time\": [\n",
        "        \"00:00\", \"01:00\", \"02:00\",\n",
        "        \"03:00\", \"04:00\", \"05:00\",\n",
        "        \"06:00\", \"07:00\", \"08:00\",\n",
        "        \"09:00\", \"10:00\", \"11:00\",\n",
        "        \"12:00\", \"13:00\", \"14:00\",\n",
        "        \"15:00\", \"16:00\", \"17:00\",\n",
        "        \"18:00\", \"19:00\", \"20:00\",\n",
        "        \"21:00\", \"22:00\", \"23:00\"\n",
        "    ],\n",
        "    \"data_format\": \"netcdf\",\n",
        "    \"download_format\": \"zip\",\n",
        "    \"area\": [55.1391, -3.7994, 52.6083, -1.4412]\n",
        "}\n",
        "\n",
        "client = cdsapi.Client()\n",
        "client.retrieve(dataset, request).download()\n"
      ],
      "metadata": {
        "colab": {
          "base_uri": "https://localhost:8080/",
          "height": 264,
          "referenced_widgets": [
            "c2a491040251421eb7f33124ad90423e",
            "8512bb3bea2f4f4ea7c767cd8f8ee0a1",
            "83e18c0e61b1419592fddd4c2f029c6d",
            "4851a5ee09f8487b8bf515187ae2d1e7",
            "415134bd3d9442c0825a223447b36f99",
            "57d3155f1edf4b1cb792d78265eb61b1",
            "1b241ea8cd634776bc0811453f3e3322",
            "9abf52c40e99441d9ec471b699551451",
            "4e4105b3f83d4a2091e1ff6abdbcd79a",
            "1080599bbbd048e19a468eafc080d729",
            "e2bbda0565c644fa88eb7fb0c517e285"
          ]
        },
        "id": "5PDLk-kT3y33",
        "outputId": "6cf561e9-73f9-4b75-c2f3-173469c196e8"
      },
      "execution_count": null,
      "outputs": [
        {
          "output_type": "stream",
          "name": "stderr",
          "text": [
            "2025-05-20 13:27:16,520 INFO [2024-09-26T00:00:00] Watch our [Forum](https://forum.ecmwf.int/) for Announcements, news and other discussed topics.\n",
            "INFO:ecmwf.datastores.legacy_client:[2024-09-26T00:00:00] Watch our [Forum](https://forum.ecmwf.int/) for Announcements, news and other discussed topics.\n",
            "2025-05-20 13:27:16,523 WARNING [2024-06-16T00:00:00] CDS API syntax is changed and some keys or parameter names may have also changed. To avoid requests failing, please use the \"Show API request code\" tool on the dataset Download Form to check you are using the correct syntax for your API request.\n",
            "WARNING:ecmwf.datastores.legacy_client:[2024-06-16T00:00:00] CDS API syntax is changed and some keys or parameter names may have also changed. To avoid requests failing, please use the \"Show API request code\" tool on the dataset Download Form to check you are using the correct syntax for your API request.\n",
            "2025-05-20 13:27:17,578 INFO Request ID is 5fa2e5b4-6d7b-459e-9c66-7de6e3329ff7\n",
            "INFO:ecmwf.datastores.legacy_client:Request ID is 5fa2e5b4-6d7b-459e-9c66-7de6e3329ff7\n",
            "2025-05-20 13:27:17,837 INFO status has been updated to accepted\n",
            "INFO:ecmwf.datastores.legacy_client:status has been updated to accepted\n",
            "2025-05-20 13:27:51,859 INFO status has been updated to running\n",
            "INFO:ecmwf.datastores.legacy_client:status has been updated to running\n",
            "2025-05-20 13:49:46,380 INFO status has been updated to successful\n",
            "INFO:ecmwf.datastores.legacy_client:status has been updated to successful\n"
          ]
        },
        {
          "output_type": "display_data",
          "data": {
            "text/plain": [
              "3107a0141c78dbe62d21c1e881c9ec93.zip:   0%|          | 0.00/4.67M [00:00<?, ?B/s]"
            ],
            "application/vnd.jupyter.widget-view+json": {
              "version_major": 2,
              "version_minor": 0,
              "model_id": "c2a491040251421eb7f33124ad90423e"
            }
          },
          "metadata": {}
        },
        {
          "output_type": "execute_result",
          "data": {
            "text/plain": [
              "'3107a0141c78dbe62d21c1e881c9ec93.zip'"
            ],
            "application/vnd.google.colaboratory.intrinsic+json": {
              "type": "string"
            }
          },
          "metadata": {},
          "execution_count": 3
        }
      ]
    },
    {
      "cell_type": "code",
      "source": [
        "# @title Texto de título predeterminado\n",
        "# prompt: extraer archivos de 748d9a373573f31217c3c98977e704bb.zip\n",
        "\n",
        "import zipfile\n",
        "\n",
        "def extract_zip(zip_filepath, extract_dir):\n",
        "  \"\"\"Extracts a zip file to a specified directory.\n",
        "\n",
        "  Args:\n",
        "    zip_filepath: The path to the zip file.\n",
        "    extract_dir: The directory to extract the files to.\n",
        "  \"\"\"\n",
        "  try:\n",
        "    with zipfile.ZipFile(zip_filepath, 'r') as zip_ref:\n",
        "      zip_ref.extractall(extract_dir)\n",
        "    print(f\"Successfully extracted '{zip_filepath}' to '{extract_dir}'\")\n",
        "  except FileNotFoundError:\n",
        "    print(f\"Error: Zip file not found at '{zip_filepath}'\")\n",
        "  except zipfile.BadZipFile:\n",
        "    print(f\"Error: Invalid zip file at '{zip_filepath}'\")\n",
        "  except Exception as e:\n",
        "    print(f\"An unexpected error occurred: {e}\")\n",
        "\n",
        "\n",
        "# Example usage (replace with your actual paths)\n",
        "zip_file_path = \"748d9a373573f31217c3c98977e704bb.zip\"\n",
        "extract_directory = \"/content/sample_data\"  # or any other desired directory\n",
        "\n",
        "extract_zip(zip_file_path, extract_directory)\n"
      ],
      "metadata": {
        "colab": {
          "base_uri": "https://localhost:8080/"
        },
        "id": "W2c0oXgy8J1v",
        "outputId": "50af1c00-0a34-48d8-c8c9-d2d0e15b317f"
      },
      "execution_count": null,
      "outputs": [
        {
          "output_type": "stream",
          "name": "stdout",
          "text": [
            "Successfully extracted '748d9a373573f31217c3c98977e704bb.zip' to '/content/sample_data'\n"
          ]
        }
      ]
    },
    {
      "cell_type": "code",
      "source": [
        "!pwd\n",
        "!ls -al sample_data/\n",
        "!ls -al /content/"
      ],
      "metadata": {
        "colab": {
          "base_uri": "https://localhost:8080/"
        },
        "id": "n18rdp3o8jjn",
        "outputId": "f8c43fa5-6e2c-49a5-d155-a00350be42be"
      },
      "execution_count": null,
      "outputs": [
        {
          "output_type": "stream",
          "name": "stdout",
          "text": [
            "/content\n",
            "total 55512\n",
            "drwxr-xr-x 1 root root     4096 May 14 13:38 .\n",
            "drwxr-xr-x 1 root root     4096 May 20 13:49 ..\n",
            "-rwxr-xr-x 1 root root     1697 Jan  1  2000 anscombe.json\n",
            "-rw-r--r-- 1 root root   301141 May 14 13:38 california_housing_test.csv\n",
            "-rw-r--r-- 1 root root  1706430 May 14 13:38 california_housing_train.csv\n",
            "-rw-r--r-- 1 root root 18289443 May 14 13:38 mnist_test.csv\n",
            "-rw-r--r-- 1 root root 36523880 May 14 13:38 mnist_train_small.csv\n",
            "-rwxr-xr-x 1 root root      962 Jan  1  2000 README.md\n",
            "total 4800\n",
            "drwxr-xr-x 1 root root    4096 May 20 13:49 .\n",
            "drwxr-xr-x 1 root root    4096 May 20 13:13 ..\n",
            "-rw-r--r-- 1 root root 4894981 May 20 13:49 3107a0141c78dbe62d21c1e881c9ec93.zip\n",
            "drwxr-xr-x 4 root root    4096 May 14 13:38 .config\n",
            "drwxr-xr-x 1 root root    4096 May 14 13:38 sample_data\n"
          ]
        }
      ]
    },
    {
      "cell_type": "code",
      "source": [
        "# prompt: quiero analizar la informacion del archivo data_stream-oper_stepType-accum.nc en primer lugar cuales son las variables que contiene (encabezado)\n",
        "\n",
        "import xarray as xr\n",
        "\n",
        "# Assuming the NetCDF file is named 'data_stream-oper_stepType-accum.nc' and is in the current directory or provide the correct path\n",
        "try:\n",
        "  ds = xr.open_dataset('sample_data/data_stream-oper_stepType-accum.nc')\n",
        "  print(ds)  # This will print the dataset's variables, dimensions, and attributes\n",
        "except FileNotFoundError:\n",
        "  print(\"Error: 'data_stream-oper_stepType-accum.nc' not found in the specified directory.\")\n",
        "except Exception as e:\n",
        "    print(f\"An unexpected error occurred: {e}\")\n"
      ],
      "metadata": {
        "colab": {
          "base_uri": "https://localhost:8080/"
        },
        "id": "PbdBtZPSBoBp",
        "outputId": "4b6509d0-8ddd-46a1-d399-2ecb44dbc45e"
      },
      "execution_count": null,
      "outputs": [
        {
          "output_type": "stream",
          "name": "stdout",
          "text": [
            "<xarray.Dataset> Size: 427kB\n",
            "Dimensions:     (valid_time: 920, latitude: 11, longitude: 10)\n",
            "Coordinates:\n",
            "    number      int64 8B ...\n",
            "  * valid_time  (valid_time) datetime64[ns] 7kB 2024-07-01 ... 2024-12-31T19:...\n",
            "  * latitude    (latitude) float64 88B 55.11 54.86 54.61 ... 53.11 52.86 52.61\n",
            "  * longitude   (longitude) float64 80B -3.8 -3.55 -3.3 ... -2.049 -1.799 -1.549\n",
            "    expver      (valid_time) <U4 15kB ...\n",
            "Data variables:\n",
            "    tp          (valid_time, latitude, longitude) float32 405kB ...\n",
            "Attributes:\n",
            "    GRIB_centre:             ecmf\n",
            "    GRIB_centreDescription:  European Centre for Medium-Range Weather Forecasts\n",
            "    GRIB_subCentre:          0\n",
            "    Conventions:             CF-1.7\n",
            "    institution:             European Centre for Medium-Range Weather Forecasts\n",
            "    history:                 2025-05-06T04:45 GRIB to CDM+CF via cfgrib-0.9.1...\n"
          ]
        }
      ]
    },
    {
      "cell_type": "code",
      "source": [
        "# prompt: quiero analizar la informacion del archivo data_stream-oper_stepType-accum.nc en primer lugar cuales son las variables que contiene (encabezado)\n",
        "\n",
        "import xarray as xr\n",
        "\n",
        "# Assuming the NetCDF file is named 'data_stream-oper_stepType-accum.nc' and is in the current directory or provide the correct path\n",
        "try:\n",
        "  ds = xr.open_dataset('sample_data/data_stream-oper_stepType-instant.nc')\n",
        "  print(ds)  # This will print the dataset's variables, dimensions, and attributes\n",
        "except FileNotFoundError:\n",
        "  print(\"Error: 'data_stream-oper_stepType-accum.nc' not found in the specified directory.\")\n",
        "except Exception as e:\n",
        "    print(f\"An unexpected error occurred: {e}\")\n"
      ],
      "metadata": {
        "colab": {
          "base_uri": "https://localhost:8080/"
        },
        "id": "ot5BJ5SGPC0E",
        "outputId": "ea6e5189-6a63-4974-e7cc-7aaccd4b5050"
      },
      "execution_count": null,
      "outputs": [
        {
          "output_type": "stream",
          "name": "stdout",
          "text": [
            "<xarray.Dataset> Size: 3MB\n",
            "Dimensions:     (valid_time: 920, latitude: 11, longitude: 10)\n",
            "Coordinates:\n",
            "    number      int64 8B ...\n",
            "  * valid_time  (valid_time) datetime64[ns] 7kB 2024-07-01 ... 2024-12-31T19:...\n",
            "  * latitude    (latitude) float64 88B 55.11 54.86 54.61 ... 53.11 52.86 52.61\n",
            "  * longitude   (longitude) float64 80B -3.8 -3.55 -3.3 ... -2.049 -1.799 -1.549\n",
            "    expver      (valid_time) <U4 15kB ...\n",
            "Data variables:\n",
            "    u10         (valid_time, latitude, longitude) float32 405kB ...\n",
            "    v10         (valid_time, latitude, longitude) float32 405kB ...\n",
            "    d2m         (valid_time, latitude, longitude) float32 405kB ...\n",
            "    t2m         (valid_time, latitude, longitude) float32 405kB ...\n",
            "    msl         (valid_time, latitude, longitude) float32 405kB ...\n",
            "    sst         (valid_time, latitude, longitude) float32 405kB ...\n",
            "    sp          (valid_time, latitude, longitude) float32 405kB ...\n",
            "Attributes:\n",
            "    GRIB_centre:             ecmf\n",
            "    GRIB_centreDescription:  European Centre for Medium-Range Weather Forecasts\n",
            "    GRIB_subCentre:          0\n",
            "    Conventions:             CF-1.7\n",
            "    institution:             European Centre for Medium-Range Weather Forecasts\n",
            "    history:                 2025-05-06T04:45 GRIB to CDM+CF via cfgrib-0.9.1...\n"
          ]
        }
      ]
    },
    {
      "cell_type": "code",
      "source": [
        "# prompt: quiero analizar la informacion del archivo data_stream-oper_stepType-accum.nc en primer lugar cuales son las variables que contiene (encabezado)\n",
        "\n",
        "import xarray as xr\n",
        "\n",
        "# Assuming the NetCDF file is named 'data_stream-oper_stepType-accum.nc' and is in the current directory or provide the correct path\n",
        "try:\n",
        "  ds = xr.open_dataset('sample_data/data_stream-wave_stepType-instant.nc')\n",
        "  print(ds)  # This will print the dataset's variables, dimensions, and attributes\n",
        "except FileNotFoundError:\n",
        "  print(\"Error: 'data_stream-oper_stepType-accum.nc' not found in the specified directory.\")\n",
        "except Exception as e:\n",
        "    print(f\"An unexpected error occurred: {e}\")\n"
      ],
      "metadata": {
        "colab": {
          "base_uri": "https://localhost:8080/"
        },
        "id": "hMp0VllmPqZo",
        "outputId": "ccca36b3-329c-4e69-de9f-a6033f91c425"
      },
      "execution_count": null,
      "outputs": [
        {
          "output_type": "stream",
          "name": "stdout",
          "text": [
            "<xarray.Dataset> Size: 353kB\n",
            "Dimensions:     (valid_time: 920, latitude: 6, longitude: 5)\n",
            "Coordinates:\n",
            "    number      int64 8B ...\n",
            "  * valid_time  (valid_time) datetime64[ns] 7kB 2024-07-01 ... 2024-12-31T19:...\n",
            "  * latitude    (latitude) float64 48B 55.11 54.61 54.11 53.61 53.11 52.61\n",
            "  * longitude   (longitude) float64 40B -3.8 -3.3 -2.8 -2.299 -1.799\n",
            "    expver      (valid_time) <U4 15kB ...\n",
            "Data variables:\n",
            "    mwd         (valid_time, latitude, longitude) float32 110kB ...\n",
            "    mwp         (valid_time, latitude, longitude) float32 110kB ...\n",
            "    swh         (valid_time, latitude, longitude) float32 110kB ...\n",
            "Attributes:\n",
            "    GRIB_centre:             ecmf\n",
            "    GRIB_centreDescription:  European Centre for Medium-Range Weather Forecasts\n",
            "    GRIB_subCentre:          0\n",
            "    Conventions:             CF-1.7\n",
            "    institution:             European Centre for Medium-Range Weather Forecasts\n",
            "    history:                 2025-05-06T04:45 GRIB to CDM+CF via cfgrib-0.9.1...\n"
          ]
        }
      ]
    },
    {
      "cell_type": "code",
      "source": [
        "# prompt: del archivo data_stream-oper_stepType-instant.nc quiero visualizar la variable t2m\n",
        "\n",
        "import xarray as xr\n",
        "\n",
        "# Assuming the NetCDF file is named 'data_stream-oper_stepType-instant.nc' and is in the 'sample_data' directory.\n",
        "# Adjust the file path if necessary.\n",
        "try:\n",
        "    ds = xr.open_dataset('sample_data/data_stream-oper_stepType-instant.nc')\n",
        "\n",
        "    # Access the 't2m' variable\n",
        "    t2m_data = ds['t2m']\n",
        "\n",
        "    # Now you can work with the 't2m_data' xarray DataArray\n",
        "    print(t2m_data)  # Print the data\n",
        "\n",
        "    # Example: Calculate the mean temperature\n",
        "    mean_t2m = t2m_data.mean()\n",
        "    print(f\"Mean t2m: {mean_t2m}\")\n",
        "\n",
        "    # Example: Plot the data\n",
        "    import matplotlib.pyplot as plt\n",
        "    t2m_data.plot()\n",
        "    plt.show()\n",
        "\n",
        "except FileNotFoundError:\n",
        "    print(\"Error: 'data_stream-oper_stepType-instant.nc' not found in the specified directory.\")\n",
        "except KeyError:\n",
        "  print(\"Error: 't2m' variable not found in the dataset.\")\n",
        "except Exception as e:\n",
        "    print(f\"An unexpected error occurred: {e}\")\n"
      ],
      "metadata": {
        "colab": {
          "base_uri": "https://localhost:8080/",
          "height": 923
        },
        "id": "_1IP1w1KP6cd",
        "outputId": "1bf76b77-56a7-4a30-dcd6-739b5e64bb4f"
      },
      "execution_count": null,
      "outputs": [
        {
          "output_type": "stream",
          "name": "stdout",
          "text": [
            "<xarray.DataArray 't2m' (valid_time: 920, latitude: 11, longitude: 10)> Size: 405kB\n",
            "[101200 values with dtype=float32]\n",
            "Coordinates:\n",
            "    number      int64 8B ...\n",
            "  * valid_time  (valid_time) datetime64[ns] 7kB 2024-07-01 ... 2024-12-31T19:...\n",
            "  * latitude    (latitude) float64 88B 55.11 54.86 54.61 ... 53.11 52.86 52.61\n",
            "  * longitude   (longitude) float64 80B -3.8 -3.55 -3.3 ... -2.049 -1.799 -1.549\n",
            "    expver      (valid_time) <U4 15kB ...\n",
            "Attributes: (12/32)\n",
            "    GRIB_paramId:                             167\n",
            "    GRIB_dataType:                            an\n",
            "    GRIB_numberOfPoints:                      110\n",
            "    GRIB_typeOfLevel:                         surface\n",
            "    GRIB_stepUnits:                           1\n",
            "    GRIB_stepType:                            instant\n",
            "    ...                                       ...\n",
            "    GRIB_totalNumber:                         0\n",
            "    GRIB_units:                               K\n",
            "    long_name:                                2 metre temperature\n",
            "    units:                                    K\n",
            "    standard_name:                            unknown\n",
            "    GRIB_surface:                             0.0\n",
            "Mean t2m: <xarray.DataArray 't2m' ()> Size: 8B\n",
            "array(284.40872192)\n",
            "Coordinates:\n",
            "    number   int64 8B ...\n"
          ]
        },
        {
          "output_type": "display_data",
          "data": {
            "text/plain": [
              "<Figure size 640x480 with 1 Axes>"
            ],
            "image/png": "[encoded data removed]"
          },
          "metadata": {}
        }
      ]
    }
  ]
}